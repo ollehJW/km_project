{
 "cells": [
  {
   "cell_type": "markdown",
   "metadata": {},
   "source": [
    "## 1. 필요한 패키지 불러오기"
   ]
  },
  {
   "cell_type": "code",
   "execution_count": 143,
   "metadata": {},
   "outputs": [],
   "source": [
    "import cv2\n",
    "import os\n",
    "import json\n",
    "from PIL import Image\n",
    "import numpy as np"
   ]
  },
  {
   "cell_type": "markdown",
   "metadata": {},
   "source": [
    "## 2. Train 데이터를 위한 Crop"
   ]
  },
  {
   "cell_type": "markdown",
   "metadata": {},
   "source": [
    "번호판의 Class를 예측하기 위한 모델을 학습하기 위해 실제 정답 좌표를 통해 Crop 이미지를 생성한다."
   ]
  },
  {
   "cell_type": "markdown",
   "metadata": {},
   "source": [
    "### (1) 경로 설정"
   ]
  },
  {
   "cell_type": "code",
   "execution_count": 144,
   "metadata": {},
   "outputs": [],
   "source": [
    "train_img_dir = './dataset/train/img'\n",
    "train_json_dir = './dataset/train/json'\n",
    "test_img_dir = './dataset/test/img'\n",
    "test_json_dir = './dataset/test/json'\n",
    "\n",
    "save_train_cropped_image_path = './cropped_image/train'\n",
    "save_test_cropped_image_path = './cropped_image/test'\n",
    "os.makedirs('./cropped_image', exist_ok = True)\n",
    "os.makedirs(save_train_cropped_image_path, exist_ok = True)\n",
    "os.makedirs(save_test_cropped_image_path, exist_ok = True)"
   ]
  },
  {
   "cell_type": "code",
   "execution_count": 145,
   "metadata": {},
   "outputs": [
    {
     "name": "stdout",
     "output_type": "stream",
     "text": [
      "Train Image 개수: 785\n",
      "Train Json 개수: 785\n",
      "Test Image 개수: 63\n",
      "Test Json 개수: 63\n"
     ]
    }
   ],
   "source": [
    "train_img_list = os.listdir(train_img_dir)\n",
    "train_img_list = sorted(train_img_list)\n",
    "train_img_list = [os.path.join(train_img_dir, img) for img in train_img_list]\n",
    "train_json_list = os.listdir(train_json_dir)\n",
    "train_json_list = sorted(train_json_list)\n",
    "train_json_list = [os.path.join(train_json_dir, js) for js in train_json_list]\n",
    "\n",
    "test_img_list = os.listdir(test_img_dir)\n",
    "test_img_list = sorted(test_img_list)\n",
    "test_img_list = [os.path.join(test_img_dir, img) for img in test_img_list]\n",
    "test_json_list = os.listdir(test_json_dir)\n",
    "test_json_list = sorted(test_json_list)\n",
    "test_json_list = [os.path.join(test_json_dir, js) for js in test_json_list]\n",
    "\n",
    "print(\"Train Image 개수: {}\".format(len(train_img_list)))\n",
    "print(\"Train Json 개수: {}\".format(len(train_json_list)))\n",
    "print(\"Test Image 개수: {}\".format(len(test_img_list)))\n",
    "print(\"Test Json 개수: {}\".format(len(test_json_list)))"
   ]
  },
  {
   "cell_type": "markdown",
   "metadata": {},
   "source": [
    "### (2) Cropped Image 생성"
   ]
  },
  {
   "cell_type": "code",
   "execution_count": 146,
   "metadata": {},
   "outputs": [],
   "source": [
    "for i in range(len(train_img_list)):\n",
    "    img_file = train_img_list[i]\n",
    "    json_file = train_json_list[i]\n",
    "    image = Image.open(img_file)\n",
    "    json_file = open(json_file, encoding = 'utf-8')\n",
    "    json_file = json.load(json_file)\n",
    "    LeftUp = json_file['region']['LeftUp']\n",
    "    RightUp = json_file['region']['RightUp']\n",
    "    LeftDown = json_file['region']['LeftDown']\n",
    "    RightDown = json_file['region']['RightDown']\n",
    "    class_name = json_file['class']\n",
    "    if len(class_name) > 0:\n",
    "        save_path = os.path.join(save_train_cropped_image_path, list(class_name.keys())[0])\n",
    "        os.makedirs(save_path, exist_ok=True)\n",
    "        save_path = os.path.join(save_path, os.path.basename(img_file))\n",
    "        horizen_min = int(min(LeftUp[0], RightUp[0], LeftDown[0], RightDown[0]))\n",
    "        horizen_max = int(max(LeftUp[0], RightUp[0], LeftDown[0], RightDown[0]))\n",
    "        vertical_min = int(min(LeftUp[1], RightUp[1], LeftDown[1], RightDown[1]))\n",
    "        vertical_max = int(max(LeftUp[1], RightUp[1], LeftDown[1], RightDown[1]))\n",
    "        cropped_image = np.array(image)[vertical_min:vertical_max, horizen_min:horizen_max, :]\n",
    "        cv2.imwrite(save_path, cropped_image)\n",
    "       \n",
    "    "
   ]
  },
  {
   "cell_type": "code",
   "execution_count": 147,
   "metadata": {},
   "outputs": [],
   "source": [
    "for i in range(len(test_img_list)):\n",
    "    img_file = test_img_list[i]\n",
    "    json_file = test_json_list[i]\n",
    "    image = Image.open(img_file)\n",
    "    json_file = open(json_file, encoding = 'utf-8')\n",
    "    json_file = json.load(json_file)\n",
    "    LeftUp = json_file['region']['LeftUp']\n",
    "    RightUp = json_file['region']['RightUp']\n",
    "    LeftDown = json_file['region']['LeftDown']\n",
    "    RightDown = json_file['region']['RightDown']\n",
    "    class_name = json_file['class']\n",
    "    if len(class_name) > 0:\n",
    "        save_path = os.path.join(save_test_cropped_image_path, list(class_name.keys())[0])\n",
    "        os.makedirs(save_path, exist_ok=True)\n",
    "        save_path = os.path.join(save_path, os.path.basename(img_file))\n",
    "        horizen_min = int(min(LeftUp[0], RightUp[0], LeftDown[0], RightDown[0]))\n",
    "        horizen_max = int(max(LeftUp[0], RightUp[0], LeftDown[0], RightDown[0]))\n",
    "        vertical_min = int(min(LeftUp[1], RightUp[1], LeftDown[1], RightDown[1]))\n",
    "        vertical_max = int(max(LeftUp[1], RightUp[1], LeftDown[1], RightDown[1]))\n",
    "        cropped_image = np.array(image)[vertical_min:vertical_max, horizen_min:horizen_max, :]\n",
    "        cv2.imwrite(save_path, cropped_image)\n",
    "       \n",
    "    "
   ]
  },
  {
   "cell_type": "markdown",
   "metadata": {},
   "source": [
    "## 3. Test 데이터를 위한 Crop"
   ]
  },
  {
   "cell_type": "markdown",
   "metadata": {},
   "source": []
  }
 ],
 "metadata": {
  "interpreter": {
   "hash": "8786e27bd1086ac4d9d40cc5555f877076005eb73afcfe8ecd44164236edd6aa"
  },
  "kernelspec": {
   "display_name": "Python 3.8.13 ('vision_machine')",
   "language": "python",
   "name": "python3"
  },
  "language_info": {
   "codemirror_mode": {
    "name": "ipython",
    "version": 3
   },
   "file_extension": ".py",
   "mimetype": "text/x-python",
   "name": "python",
   "nbconvert_exporter": "python",
   "pygments_lexer": "ipython3",
   "version": "3.8.13"
  },
  "orig_nbformat": 4
 },
 "nbformat": 4,
 "nbformat_minor": 2
}
