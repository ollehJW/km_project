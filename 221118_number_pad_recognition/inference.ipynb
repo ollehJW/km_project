{
 "cells": [
  {
   "cell_type": "markdown",
   "metadata": {},
   "source": [
    "## 1. 사용할 패키지 불러오기"
   ]
  },
  {
   "cell_type": "code",
   "execution_count": 1,
   "metadata": {},
   "outputs": [
    {
     "name": "stderr",
     "output_type": "stream",
     "text": [
      "/home/jongwook95.lee/miniforge3/envs/vision_machine/lib/python3.8/site-packages/tqdm/auto.py:22: TqdmWarning: IProgress not found. Please update jupyter and ipywidgets. See https://ipywidgets.readthedocs.io/en/stable/user_install.html\n",
      "  from .autonotebook import tqdm as notebook_tqdm\n"
     ]
    }
   ],
   "source": [
    "import pandas as pd\n",
    "import cv2\n",
    "import os\n",
    "from sklearn.model_selection import train_test_split\n",
    "from torch.optim import Adam\n",
    "from torch.nn import CrossEntropyLoss\n",
    "import json\n",
    "from data_gen.data_gen import PointInferenceDatasetGenerator, ClassDatasetGenerator\n",
    "import torch\n",
    "import torchvision.models as models\n",
    "import torch.nn as nn\n",
    "import numpy as np\n",
    "from tqdm import tqdm\n",
    "import matplotlib.pyplot as plt\n",
    "from sklearn.metrics import confusion_matrix\n",
    "import seaborn as sns"
   ]
  },
  {
   "cell_type": "markdown",
   "metadata": {},
   "source": [
    "## 2. 데이터 불러오기"
   ]
  },
  {
   "cell_type": "markdown",
   "metadata": {},
   "source": [
    "### (1) Inference Data 경로 지정"
   ]
  },
  {
   "cell_type": "code",
   "execution_count": 2,
   "metadata": {},
   "outputs": [],
   "source": [
    "inference_img_path = './dataset/test/img'"
   ]
  },
  {
   "cell_type": "markdown",
   "metadata": {},
   "source": [
    "### (2) Inference Data 불러오기"
   ]
  },
  {
   "cell_type": "code",
   "execution_count": 3,
   "metadata": {},
   "outputs": [],
   "source": [
    "inference_img_list = os.listdir(inference_img_path)\n",
    "inference_img_list = sorted(inference_img_list)\n",
    "inference_img_list = [os.path.join(inference_img_path, img) for img in inference_img_list]"
   ]
  },
  {
   "cell_type": "markdown",
   "metadata": {},
   "source": [
    "## 3. 모델링"
   ]
  },
  {
   "cell_type": "code",
   "execution_count": 4,
   "metadata": {},
   "outputs": [],
   "source": [
    "save_path = 'cropped_image/inference'\n",
    "os.makedirs(save_path, exist_ok=True)"
   ]
  },
  {
   "cell_type": "markdown",
   "metadata": {},
   "source": [
    "### (1) Dataloader 생성"
   ]
  },
  {
   "cell_type": "code",
   "execution_count": 5,
   "metadata": {},
   "outputs": [],
   "source": [
    "inference_dataset = PointInferenceDatasetGenerator(inference_img_list)\n",
    "inference_dataloader = inference_dataset.dataloader()"
   ]
  },
  {
   "cell_type": "markdown",
   "metadata": {},
   "source": [
    "### (2) 학습된 Point Prediction Model 불러오기"
   ]
  },
  {
   "cell_type": "code",
   "execution_count": 6,
   "metadata": {},
   "outputs": [
    {
     "data": {
      "text/plain": [
       "<All keys matched successfully>"
      ]
     },
     "execution_count": 6,
     "metadata": {},
     "output_type": "execute_result"
    }
   ],
   "source": [
    "model_name = 'resnet18'\n",
    "vision_model = models.resnet18(pretrained=True)\n",
    "num_ftrs = vision_model.fc.in_features\n",
    "vision_model.fc = nn.Linear(num_ftrs, 8)\n",
    "vision_model.load_state_dict(torch.load('result/Best_model.pth'))"
   ]
  },
  {
   "cell_type": "markdown",
   "metadata": {},
   "source": [
    "### (3) Point 예측에 대한 Crop"
   ]
  },
  {
   "cell_type": "code",
   "execution_count": 29,
   "metadata": {},
   "outputs": [
    {
     "name": "stdout",
     "output_type": "stream",
     "text": [
      "Prediction\n"
     ]
    }
   ],
   "source": [
    "print('Prediction')\n",
    "device = torch.device(\"cuda:0\" if torch.cuda.is_available() else \"cpu\")\n",
    "predictions = []\n",
    "vision_model.to(device)\n",
    "\n",
    "with torch.no_grad():  \n",
    "    for data in inference_dataloader['test']:\n",
    "        images, width, height, original_image, fname = data['image'].float().to(device), data['width'].float(), data['height'].float(), data['original_image'].float(), data['fname']\n",
    "        images = images.to(device)  \n",
    "        vision_model.eval()  \n",
    "        yhat = vision_model(images)  \n",
    "        pred = yhat.cpu().numpy()\n",
    "        horizen_min = min(pred[0][0], pred[0][2], pred[0][4], pred[0][6])\n",
    "        horizen_max = max(pred[0][0], pred[0][2], pred[0][4], pred[0][6])\n",
    "        vertical_min = min(pred[0][1], pred[0][3], pred[0][5], pred[0][7])\n",
    "        vertical_max = max(pred[0][1], pred[0][3], pred[0][5], pred[0][7])\n",
    "        horizen_min = int(horizen_min / 448 * height)\n",
    "        horizen_max = int(horizen_max / 448 * height)\n",
    "        vertical_min = int(vertical_min / 224 * width)\n",
    "        vertical_max = int(vertical_max / 224 * width)\n",
    "        cropped_image = np.array(original_image)[0, :, :, :][vertical_min:vertical_max, horizen_min:horizen_max, :]\n",
    "        save_fname = os.path.join(save_path, fname[0])\n",
    "        cv2.imwrite(save_fname, cropped_image)\n",
    "\n",
    "\n",
    "\n"
   ]
  },
  {
   "cell_type": "markdown",
   "metadata": {},
   "source": [
    "### (4) 학습된 Class Prediction Model 불러오기"
   ]
  },
  {
   "cell_type": "code",
   "execution_count": 30,
   "metadata": {},
   "outputs": [],
   "source": [
    "model_name = 'resnet18'\n",
    "vision_model = models.resnet18(pretrained=True)\n",
    "num_ftrs = vision_model.fc.in_features\n",
    "vision_model.fc = nn.Linear(num_ftrs, len(uni_label))"
   ]
  },
  {
   "cell_type": "markdown",
   "metadata": {},
   "source": [
    "### (5) 학습"
   ]
  },
  {
   "cell_type": "code",
   "execution_count": 31,
   "metadata": {},
   "outputs": [
    {
     "name": "stdout",
     "output_type": "stream",
     "text": [
      "resnet18 start training!\n"
     ]
    },
    {
     "ename": "KeyboardInterrupt",
     "evalue": "",
     "output_type": "error",
     "traceback": [
      "\u001b[0;31m---------------------------------------------------------------------------\u001b[0m",
      "\u001b[0;31mKeyboardInterrupt\u001b[0m                         Traceback (most recent call last)",
      "\u001b[1;32m/home/jongwook95.lee/study/km_project/221118_number_pad_recognition/class_prediction.ipynb Cell 20'\u001b[0m in \u001b[0;36m<cell line: 7>\u001b[0;34m()\u001b[0m\n\u001b[1;32m     <a href='vscode-notebook-cell://ssh-remote%2Bia07.lge.com/home/jongwook95.lee/study/km_project/221118_number_pad_recognition/class_prediction.ipynb#ch0000024vscode-remote?line=9'>10</a>\u001b[0m total \u001b[39m=\u001b[39m \u001b[39m0\u001b[39m\n\u001b[1;32m     <a href='vscode-notebook-cell://ssh-remote%2Bia07.lge.com/home/jongwook95.lee/study/km_project/221118_number_pad_recognition/class_prediction.ipynb#ch0000024vscode-remote?line=10'>11</a>\u001b[0m vision_model\u001b[39m.\u001b[39mtrain()     \u001b[39m# Optional when not using Model Specific layer\u001b[39;00m\n\u001b[0;32m---> <a href='vscode-notebook-cell://ssh-remote%2Bia07.lge.com/home/jongwook95.lee/study/km_project/221118_number_pad_recognition/class_prediction.ipynb#ch0000024vscode-remote?line=11'>12</a>\u001b[0m \u001b[39mfor\u001b[39;00m data \u001b[39min\u001b[39;00m train_dataloader[\u001b[39m'\u001b[39m\u001b[39mtrain\u001b[39m\u001b[39m'\u001b[39m]:\n\u001b[1;32m     <a href='vscode-notebook-cell://ssh-remote%2Bia07.lge.com/home/jongwook95.lee/study/km_project/221118_number_pad_recognition/class_prediction.ipynb#ch0000024vscode-remote?line=12'>13</a>\u001b[0m     \u001b[39mif\u001b[39;00m torch\u001b[39m.\u001b[39mcuda\u001b[39m.\u001b[39mis_available():\n\u001b[1;32m     <a href='vscode-notebook-cell://ssh-remote%2Bia07.lge.com/home/jongwook95.lee/study/km_project/221118_number_pad_recognition/class_prediction.ipynb#ch0000024vscode-remote?line=13'>14</a>\u001b[0m         images, labels \u001b[39m=\u001b[39m data[\u001b[39m'\u001b[39m\u001b[39mimage\u001b[39m\u001b[39m'\u001b[39m]\u001b[39m.\u001b[39mfloat()\u001b[39m.\u001b[39mto(device), data[\u001b[39m'\u001b[39m\u001b[39mtarget\u001b[39m\u001b[39m'\u001b[39m]\u001b[39m.\u001b[39mfloat()\u001b[39m.\u001b[39mto(device)\n",
      "File \u001b[0;32m~/miniforge3/envs/vision_machine/lib/python3.8/site-packages/torch/utils/data/dataloader.py:530\u001b[0m, in \u001b[0;36m_BaseDataLoaderIter.__next__\u001b[0;34m(self)\u001b[0m\n\u001b[1;32m    <a href='file:///home/jongwook95.lee/miniforge3/envs/vision_machine/lib/python3.8/site-packages/torch/utils/data/dataloader.py?line=527'>528</a>\u001b[0m \u001b[39mif\u001b[39;00m \u001b[39mself\u001b[39m\u001b[39m.\u001b[39m_sampler_iter \u001b[39mis\u001b[39;00m \u001b[39mNone\u001b[39;00m:\n\u001b[1;32m    <a href='file:///home/jongwook95.lee/miniforge3/envs/vision_machine/lib/python3.8/site-packages/torch/utils/data/dataloader.py?line=528'>529</a>\u001b[0m     \u001b[39mself\u001b[39m\u001b[39m.\u001b[39m_reset()\n\u001b[0;32m--> <a href='file:///home/jongwook95.lee/miniforge3/envs/vision_machine/lib/python3.8/site-packages/torch/utils/data/dataloader.py?line=529'>530</a>\u001b[0m data \u001b[39m=\u001b[39m \u001b[39mself\u001b[39;49m\u001b[39m.\u001b[39;49m_next_data()\n\u001b[1;32m    <a href='file:///home/jongwook95.lee/miniforge3/envs/vision_machine/lib/python3.8/site-packages/torch/utils/data/dataloader.py?line=530'>531</a>\u001b[0m \u001b[39mself\u001b[39m\u001b[39m.\u001b[39m_num_yielded \u001b[39m+\u001b[39m\u001b[39m=\u001b[39m \u001b[39m1\u001b[39m\n\u001b[1;32m    <a href='file:///home/jongwook95.lee/miniforge3/envs/vision_machine/lib/python3.8/site-packages/torch/utils/data/dataloader.py?line=531'>532</a>\u001b[0m \u001b[39mif\u001b[39;00m \u001b[39mself\u001b[39m\u001b[39m.\u001b[39m_dataset_kind \u001b[39m==\u001b[39m _DatasetKind\u001b[39m.\u001b[39mIterable \u001b[39mand\u001b[39;00m \\\n\u001b[1;32m    <a href='file:///home/jongwook95.lee/miniforge3/envs/vision_machine/lib/python3.8/site-packages/torch/utils/data/dataloader.py?line=532'>533</a>\u001b[0m         \u001b[39mself\u001b[39m\u001b[39m.\u001b[39m_IterableDataset_len_called \u001b[39mis\u001b[39;00m \u001b[39mnot\u001b[39;00m \u001b[39mNone\u001b[39;00m \u001b[39mand\u001b[39;00m \\\n\u001b[1;32m    <a href='file:///home/jongwook95.lee/miniforge3/envs/vision_machine/lib/python3.8/site-packages/torch/utils/data/dataloader.py?line=533'>534</a>\u001b[0m         \u001b[39mself\u001b[39m\u001b[39m.\u001b[39m_num_yielded \u001b[39m>\u001b[39m \u001b[39mself\u001b[39m\u001b[39m.\u001b[39m_IterableDataset_len_called:\n",
      "File \u001b[0;32m~/miniforge3/envs/vision_machine/lib/python3.8/site-packages/torch/utils/data/dataloader.py:570\u001b[0m, in \u001b[0;36m_SingleProcessDataLoaderIter._next_data\u001b[0;34m(self)\u001b[0m\n\u001b[1;32m    <a href='file:///home/jongwook95.lee/miniforge3/envs/vision_machine/lib/python3.8/site-packages/torch/utils/data/dataloader.py?line=567'>568</a>\u001b[0m \u001b[39mdef\u001b[39;00m \u001b[39m_next_data\u001b[39m(\u001b[39mself\u001b[39m):\n\u001b[1;32m    <a href='file:///home/jongwook95.lee/miniforge3/envs/vision_machine/lib/python3.8/site-packages/torch/utils/data/dataloader.py?line=568'>569</a>\u001b[0m     index \u001b[39m=\u001b[39m \u001b[39mself\u001b[39m\u001b[39m.\u001b[39m_next_index()  \u001b[39m# may raise StopIteration\u001b[39;00m\n\u001b[0;32m--> <a href='file:///home/jongwook95.lee/miniforge3/envs/vision_machine/lib/python3.8/site-packages/torch/utils/data/dataloader.py?line=569'>570</a>\u001b[0m     data \u001b[39m=\u001b[39m \u001b[39mself\u001b[39;49m\u001b[39m.\u001b[39;49m_dataset_fetcher\u001b[39m.\u001b[39;49mfetch(index)  \u001b[39m# may raise StopIteration\u001b[39;00m\n\u001b[1;32m    <a href='file:///home/jongwook95.lee/miniforge3/envs/vision_machine/lib/python3.8/site-packages/torch/utils/data/dataloader.py?line=570'>571</a>\u001b[0m     \u001b[39mif\u001b[39;00m \u001b[39mself\u001b[39m\u001b[39m.\u001b[39m_pin_memory:\n\u001b[1;32m    <a href='file:///home/jongwook95.lee/miniforge3/envs/vision_machine/lib/python3.8/site-packages/torch/utils/data/dataloader.py?line=571'>572</a>\u001b[0m         data \u001b[39m=\u001b[39m _utils\u001b[39m.\u001b[39mpin_memory\u001b[39m.\u001b[39mpin_memory(data)\n",
      "File \u001b[0;32m~/miniforge3/envs/vision_machine/lib/python3.8/site-packages/torch/utils/data/_utils/fetch.py:49\u001b[0m, in \u001b[0;36m_MapDatasetFetcher.fetch\u001b[0;34m(self, possibly_batched_index)\u001b[0m\n\u001b[1;32m     <a href='file:///home/jongwook95.lee/miniforge3/envs/vision_machine/lib/python3.8/site-packages/torch/utils/data/_utils/fetch.py?line=46'>47</a>\u001b[0m \u001b[39mdef\u001b[39;00m \u001b[39mfetch\u001b[39m(\u001b[39mself\u001b[39m, possibly_batched_index):\n\u001b[1;32m     <a href='file:///home/jongwook95.lee/miniforge3/envs/vision_machine/lib/python3.8/site-packages/torch/utils/data/_utils/fetch.py?line=47'>48</a>\u001b[0m     \u001b[39mif\u001b[39;00m \u001b[39mself\u001b[39m\u001b[39m.\u001b[39mauto_collation:\n\u001b[0;32m---> <a href='file:///home/jongwook95.lee/miniforge3/envs/vision_machine/lib/python3.8/site-packages/torch/utils/data/_utils/fetch.py?line=48'>49</a>\u001b[0m         data \u001b[39m=\u001b[39m [\u001b[39mself\u001b[39m\u001b[39m.\u001b[39mdataset[idx] \u001b[39mfor\u001b[39;00m idx \u001b[39min\u001b[39;00m possibly_batched_index]\n\u001b[1;32m     <a href='file:///home/jongwook95.lee/miniforge3/envs/vision_machine/lib/python3.8/site-packages/torch/utils/data/_utils/fetch.py?line=49'>50</a>\u001b[0m     \u001b[39melse\u001b[39;00m:\n\u001b[1;32m     <a href='file:///home/jongwook95.lee/miniforge3/envs/vision_machine/lib/python3.8/site-packages/torch/utils/data/_utils/fetch.py?line=50'>51</a>\u001b[0m         data \u001b[39m=\u001b[39m \u001b[39mself\u001b[39m\u001b[39m.\u001b[39mdataset[possibly_batched_index]\n",
      "File \u001b[0;32m~/miniforge3/envs/vision_machine/lib/python3.8/site-packages/torch/utils/data/_utils/fetch.py:49\u001b[0m, in \u001b[0;36m<listcomp>\u001b[0;34m(.0)\u001b[0m\n\u001b[1;32m     <a href='file:///home/jongwook95.lee/miniforge3/envs/vision_machine/lib/python3.8/site-packages/torch/utils/data/_utils/fetch.py?line=46'>47</a>\u001b[0m \u001b[39mdef\u001b[39;00m \u001b[39mfetch\u001b[39m(\u001b[39mself\u001b[39m, possibly_batched_index):\n\u001b[1;32m     <a href='file:///home/jongwook95.lee/miniforge3/envs/vision_machine/lib/python3.8/site-packages/torch/utils/data/_utils/fetch.py?line=47'>48</a>\u001b[0m     \u001b[39mif\u001b[39;00m \u001b[39mself\u001b[39m\u001b[39m.\u001b[39mauto_collation:\n\u001b[0;32m---> <a href='file:///home/jongwook95.lee/miniforge3/envs/vision_machine/lib/python3.8/site-packages/torch/utils/data/_utils/fetch.py?line=48'>49</a>\u001b[0m         data \u001b[39m=\u001b[39m [\u001b[39mself\u001b[39;49m\u001b[39m.\u001b[39;49mdataset[idx] \u001b[39mfor\u001b[39;00m idx \u001b[39min\u001b[39;00m possibly_batched_index]\n\u001b[1;32m     <a href='file:///home/jongwook95.lee/miniforge3/envs/vision_machine/lib/python3.8/site-packages/torch/utils/data/_utils/fetch.py?line=49'>50</a>\u001b[0m     \u001b[39melse\u001b[39;00m:\n\u001b[1;32m     <a href='file:///home/jongwook95.lee/miniforge3/envs/vision_machine/lib/python3.8/site-packages/torch/utils/data/_utils/fetch.py?line=50'>51</a>\u001b[0m         data \u001b[39m=\u001b[39m \u001b[39mself\u001b[39m\u001b[39m.\u001b[39mdataset[possibly_batched_index]\n",
      "File \u001b[0;32m~/study/km_project/221118_number_pad_recognition/data_gen/data_gen.py:152\u001b[0m, in \u001b[0;36mConstructClassDataset.__getitem__\u001b[0;34m(self, index)\u001b[0m\n\u001b[1;32m    <a href='file:///home/jongwook95.lee/study/km_project/221118_number_pad_recognition/data_gen/data_gen.py?line=149'>150</a>\u001b[0m image \u001b[39m=\u001b[39m Image\u001b[39m.\u001b[39mopen(\u001b[39mself\u001b[39m\u001b[39m.\u001b[39mfile_list[index])\n\u001b[1;32m    <a href='file:///home/jongwook95.lee/study/km_project/221118_number_pad_recognition/data_gen/data_gen.py?line=150'>151</a>\u001b[0m target_class \u001b[39m=\u001b[39m \u001b[39mself\u001b[39m\u001b[39m.\u001b[39mtarget_list[index]\n\u001b[0;32m--> <a href='file:///home/jongwook95.lee/study/km_project/221118_number_pad_recognition/data_gen/data_gen.py?line=151'>152</a>\u001b[0m image \u001b[39m=\u001b[39m transform_dict[\u001b[39mself\u001b[39;49m\u001b[39m.\u001b[39;49mphase](image)\n\u001b[1;32m    <a href='file:///home/jongwook95.lee/study/km_project/221118_number_pad_recognition/data_gen/data_gen.py?line=152'>153</a>\u001b[0m \u001b[39mreturn\u001b[39;00m {\u001b[39m'\u001b[39m\u001b[39mimage\u001b[39m\u001b[39m'\u001b[39m: image, \u001b[39m'\u001b[39m\u001b[39mtarget\u001b[39m\u001b[39m'\u001b[39m: target_class}\n",
      "File \u001b[0;32m~/miniforge3/envs/vision_machine/lib/python3.8/site-packages/torchvision/transforms/transforms.py:95\u001b[0m, in \u001b[0;36mCompose.__call__\u001b[0;34m(self, img)\u001b[0m\n\u001b[1;32m     <a href='file:///home/jongwook95.lee/miniforge3/envs/vision_machine/lib/python3.8/site-packages/torchvision/transforms/transforms.py?line=92'>93</a>\u001b[0m \u001b[39mdef\u001b[39;00m \u001b[39m__call__\u001b[39m(\u001b[39mself\u001b[39m, img):\n\u001b[1;32m     <a href='file:///home/jongwook95.lee/miniforge3/envs/vision_machine/lib/python3.8/site-packages/torchvision/transforms/transforms.py?line=93'>94</a>\u001b[0m     \u001b[39mfor\u001b[39;00m t \u001b[39min\u001b[39;00m \u001b[39mself\u001b[39m\u001b[39m.\u001b[39mtransforms:\n\u001b[0;32m---> <a href='file:///home/jongwook95.lee/miniforge3/envs/vision_machine/lib/python3.8/site-packages/torchvision/transforms/transforms.py?line=94'>95</a>\u001b[0m         img \u001b[39m=\u001b[39m t(img)\n\u001b[1;32m     <a href='file:///home/jongwook95.lee/miniforge3/envs/vision_machine/lib/python3.8/site-packages/torchvision/transforms/transforms.py?line=95'>96</a>\u001b[0m     \u001b[39mreturn\u001b[39;00m img\n",
      "File \u001b[0;32m~/miniforge3/envs/vision_machine/lib/python3.8/site-packages/torch/nn/modules/module.py:1110\u001b[0m, in \u001b[0;36mModule._call_impl\u001b[0;34m(self, *input, **kwargs)\u001b[0m\n\u001b[1;32m   <a href='file:///home/jongwook95.lee/miniforge3/envs/vision_machine/lib/python3.8/site-packages/torch/nn/modules/module.py?line=1105'>1106</a>\u001b[0m \u001b[39m# If we don't have any hooks, we want to skip the rest of the logic in\u001b[39;00m\n\u001b[1;32m   <a href='file:///home/jongwook95.lee/miniforge3/envs/vision_machine/lib/python3.8/site-packages/torch/nn/modules/module.py?line=1106'>1107</a>\u001b[0m \u001b[39m# this function, and just call forward.\u001b[39;00m\n\u001b[1;32m   <a href='file:///home/jongwook95.lee/miniforge3/envs/vision_machine/lib/python3.8/site-packages/torch/nn/modules/module.py?line=1107'>1108</a>\u001b[0m \u001b[39mif\u001b[39;00m \u001b[39mnot\u001b[39;00m (\u001b[39mself\u001b[39m\u001b[39m.\u001b[39m_backward_hooks \u001b[39mor\u001b[39;00m \u001b[39mself\u001b[39m\u001b[39m.\u001b[39m_forward_hooks \u001b[39mor\u001b[39;00m \u001b[39mself\u001b[39m\u001b[39m.\u001b[39m_forward_pre_hooks \u001b[39mor\u001b[39;00m _global_backward_hooks\n\u001b[1;32m   <a href='file:///home/jongwook95.lee/miniforge3/envs/vision_machine/lib/python3.8/site-packages/torch/nn/modules/module.py?line=1108'>1109</a>\u001b[0m         \u001b[39mor\u001b[39;00m _global_forward_hooks \u001b[39mor\u001b[39;00m _global_forward_pre_hooks):\n\u001b[0;32m-> <a href='file:///home/jongwook95.lee/miniforge3/envs/vision_machine/lib/python3.8/site-packages/torch/nn/modules/module.py?line=1109'>1110</a>\u001b[0m     \u001b[39mreturn\u001b[39;00m forward_call(\u001b[39m*\u001b[39;49m\u001b[39minput\u001b[39;49m, \u001b[39m*\u001b[39;49m\u001b[39m*\u001b[39;49mkwargs)\n\u001b[1;32m   <a href='file:///home/jongwook95.lee/miniforge3/envs/vision_machine/lib/python3.8/site-packages/torch/nn/modules/module.py?line=1110'>1111</a>\u001b[0m \u001b[39m# Do not call functions when jit is used\u001b[39;00m\n\u001b[1;32m   <a href='file:///home/jongwook95.lee/miniforge3/envs/vision_machine/lib/python3.8/site-packages/torch/nn/modules/module.py?line=1111'>1112</a>\u001b[0m full_backward_hooks, non_full_backward_hooks \u001b[39m=\u001b[39m [], []\n",
      "File \u001b[0;32m~/miniforge3/envs/vision_machine/lib/python3.8/site-packages/torchvision/transforms/transforms.py:349\u001b[0m, in \u001b[0;36mResize.forward\u001b[0;34m(self, img)\u001b[0m\n\u001b[1;32m    <a href='file:///home/jongwook95.lee/miniforge3/envs/vision_machine/lib/python3.8/site-packages/torchvision/transforms/transforms.py?line=340'>341</a>\u001b[0m \u001b[39mdef\u001b[39;00m \u001b[39mforward\u001b[39m(\u001b[39mself\u001b[39m, img):\n\u001b[1;32m    <a href='file:///home/jongwook95.lee/miniforge3/envs/vision_machine/lib/python3.8/site-packages/torchvision/transforms/transforms.py?line=341'>342</a>\u001b[0m     \u001b[39m\"\"\"\u001b[39;00m\n\u001b[1;32m    <a href='file:///home/jongwook95.lee/miniforge3/envs/vision_machine/lib/python3.8/site-packages/torchvision/transforms/transforms.py?line=342'>343</a>\u001b[0m \u001b[39m    Args:\u001b[39;00m\n\u001b[1;32m    <a href='file:///home/jongwook95.lee/miniforge3/envs/vision_machine/lib/python3.8/site-packages/torchvision/transforms/transforms.py?line=343'>344</a>\u001b[0m \u001b[39m        img (PIL Image or Tensor): Image to be scaled.\u001b[39;00m\n\u001b[0;32m   (...)\u001b[0m\n\u001b[1;32m    <a href='file:///home/jongwook95.lee/miniforge3/envs/vision_machine/lib/python3.8/site-packages/torchvision/transforms/transforms.py?line=346'>347</a>\u001b[0m \u001b[39m        PIL Image or Tensor: Rescaled image.\u001b[39;00m\n\u001b[1;32m    <a href='file:///home/jongwook95.lee/miniforge3/envs/vision_machine/lib/python3.8/site-packages/torchvision/transforms/transforms.py?line=347'>348</a>\u001b[0m \u001b[39m    \"\"\"\u001b[39;00m\n\u001b[0;32m--> <a href='file:///home/jongwook95.lee/miniforge3/envs/vision_machine/lib/python3.8/site-packages/torchvision/transforms/transforms.py?line=348'>349</a>\u001b[0m     \u001b[39mreturn\u001b[39;00m F\u001b[39m.\u001b[39;49mresize(img, \u001b[39mself\u001b[39;49m\u001b[39m.\u001b[39;49msize, \u001b[39mself\u001b[39;49m\u001b[39m.\u001b[39;49minterpolation, \u001b[39mself\u001b[39;49m\u001b[39m.\u001b[39;49mmax_size, \u001b[39mself\u001b[39;49m\u001b[39m.\u001b[39;49mantialias)\n",
      "File \u001b[0;32m~/miniforge3/envs/vision_machine/lib/python3.8/site-packages/torchvision/transforms/functional.py:436\u001b[0m, in \u001b[0;36mresize\u001b[0;34m(img, size, interpolation, max_size, antialias)\u001b[0m\n\u001b[1;32m    <a href='file:///home/jongwook95.lee/miniforge3/envs/vision_machine/lib/python3.8/site-packages/torchvision/transforms/functional.py?line=433'>434</a>\u001b[0m         warnings\u001b[39m.\u001b[39mwarn(\u001b[39m\"\u001b[39m\u001b[39mAnti-alias option is always applied for PIL Image input. Argument antialias is ignored.\u001b[39m\u001b[39m\"\u001b[39m)\n\u001b[1;32m    <a href='file:///home/jongwook95.lee/miniforge3/envs/vision_machine/lib/python3.8/site-packages/torchvision/transforms/functional.py?line=434'>435</a>\u001b[0m     pil_interpolation \u001b[39m=\u001b[39m pil_modes_mapping[interpolation]\n\u001b[0;32m--> <a href='file:///home/jongwook95.lee/miniforge3/envs/vision_machine/lib/python3.8/site-packages/torchvision/transforms/functional.py?line=435'>436</a>\u001b[0m     \u001b[39mreturn\u001b[39;00m F_pil\u001b[39m.\u001b[39;49mresize(img, size\u001b[39m=\u001b[39;49msize, interpolation\u001b[39m=\u001b[39;49mpil_interpolation, max_size\u001b[39m=\u001b[39;49mmax_size)\n\u001b[1;32m    <a href='file:///home/jongwook95.lee/miniforge3/envs/vision_machine/lib/python3.8/site-packages/torchvision/transforms/functional.py?line=437'>438</a>\u001b[0m \u001b[39mreturn\u001b[39;00m F_t\u001b[39m.\u001b[39mresize(img, size\u001b[39m=\u001b[39msize, interpolation\u001b[39m=\u001b[39minterpolation\u001b[39m.\u001b[39mvalue, max_size\u001b[39m=\u001b[39mmax_size, antialias\u001b[39m=\u001b[39mantialias)\n",
      "File \u001b[0;32m~/miniforge3/envs/vision_machine/lib/python3.8/site-packages/torchvision/transforms/functional_pil.py:265\u001b[0m, in \u001b[0;36mresize\u001b[0;34m(img, size, interpolation, max_size)\u001b[0m\n\u001b[1;32m    <a href='file:///home/jongwook95.lee/miniforge3/envs/vision_machine/lib/python3.8/site-packages/torchvision/transforms/functional_pil.py?line=259'>260</a>\u001b[0m \u001b[39mif\u001b[39;00m max_size \u001b[39mis\u001b[39;00m \u001b[39mnot\u001b[39;00m \u001b[39mNone\u001b[39;00m:\n\u001b[1;32m    <a href='file:///home/jongwook95.lee/miniforge3/envs/vision_machine/lib/python3.8/site-packages/torchvision/transforms/functional_pil.py?line=260'>261</a>\u001b[0m     \u001b[39mraise\u001b[39;00m \u001b[39mValueError\u001b[39;00m(\n\u001b[1;32m    <a href='file:///home/jongwook95.lee/miniforge3/envs/vision_machine/lib/python3.8/site-packages/torchvision/transforms/functional_pil.py?line=261'>262</a>\u001b[0m         \u001b[39m\"\u001b[39m\u001b[39mmax_size should only be passed if size specifies the length of the smaller edge, \u001b[39m\u001b[39m\"\u001b[39m\n\u001b[1;32m    <a href='file:///home/jongwook95.lee/miniforge3/envs/vision_machine/lib/python3.8/site-packages/torchvision/transforms/functional_pil.py?line=262'>263</a>\u001b[0m         \u001b[39m\"\u001b[39m\u001b[39mi.e. size should be an int or a sequence of length 1 in torchscript mode.\u001b[39m\u001b[39m\"\u001b[39m\n\u001b[1;32m    <a href='file:///home/jongwook95.lee/miniforge3/envs/vision_machine/lib/python3.8/site-packages/torchvision/transforms/functional_pil.py?line=263'>264</a>\u001b[0m     )\n\u001b[0;32m--> <a href='file:///home/jongwook95.lee/miniforge3/envs/vision_machine/lib/python3.8/site-packages/torchvision/transforms/functional_pil.py?line=264'>265</a>\u001b[0m \u001b[39mreturn\u001b[39;00m img\u001b[39m.\u001b[39;49mresize(size[::\u001b[39m-\u001b[39;49m\u001b[39m1\u001b[39;49m], interpolation)\n",
      "File \u001b[0;32m~/miniforge3/envs/vision_machine/lib/python3.8/site-packages/PIL/Image.py:2046\u001b[0m, in \u001b[0;36mImage.resize\u001b[0;34m(self, size, resample, box, reducing_gap)\u001b[0m\n\u001b[1;32m   <a href='file:///home/jongwook95.lee/miniforge3/envs/vision_machine/lib/python3.8/site-packages/PIL/Image.py?line=2041'>2042</a>\u001b[0m     \u001b[39mraise\u001b[39;00m \u001b[39mValueError\u001b[39;00m(\u001b[39m\"\u001b[39m\u001b[39mreducing_gap must be 1.0 or greater\u001b[39m\u001b[39m\"\u001b[39m)\n\u001b[1;32m   <a href='file:///home/jongwook95.lee/miniforge3/envs/vision_machine/lib/python3.8/site-packages/PIL/Image.py?line=2043'>2044</a>\u001b[0m size \u001b[39m=\u001b[39m \u001b[39mtuple\u001b[39m(size)\n\u001b[0;32m-> <a href='file:///home/jongwook95.lee/miniforge3/envs/vision_machine/lib/python3.8/site-packages/PIL/Image.py?line=2045'>2046</a>\u001b[0m \u001b[39mself\u001b[39;49m\u001b[39m.\u001b[39;49mload()\n\u001b[1;32m   <a href='file:///home/jongwook95.lee/miniforge3/envs/vision_machine/lib/python3.8/site-packages/PIL/Image.py?line=2046'>2047</a>\u001b[0m \u001b[39mif\u001b[39;00m box \u001b[39mis\u001b[39;00m \u001b[39mNone\u001b[39;00m:\n\u001b[1;32m   <a href='file:///home/jongwook95.lee/miniforge3/envs/vision_machine/lib/python3.8/site-packages/PIL/Image.py?line=2047'>2048</a>\u001b[0m     box \u001b[39m=\u001b[39m (\u001b[39m0\u001b[39m, \u001b[39m0\u001b[39m) \u001b[39m+\u001b[39m \u001b[39mself\u001b[39m\u001b[39m.\u001b[39msize\n",
      "File \u001b[0;32m~/miniforge3/envs/vision_machine/lib/python3.8/site-packages/PIL/ImageFile.py:257\u001b[0m, in \u001b[0;36mImageFile.load\u001b[0;34m(self)\u001b[0m\n\u001b[1;32m    <a href='file:///home/jongwook95.lee/miniforge3/envs/vision_machine/lib/python3.8/site-packages/PIL/ImageFile.py?line=250'>251</a>\u001b[0m         \u001b[39mraise\u001b[39;00m \u001b[39mOSError\u001b[39;00m(\n\u001b[1;32m    <a href='file:///home/jongwook95.lee/miniforge3/envs/vision_machine/lib/python3.8/site-packages/PIL/ImageFile.py?line=251'>252</a>\u001b[0m             \u001b[39m\"\u001b[39m\u001b[39mimage file is truncated \u001b[39m\u001b[39m\"\u001b[39m\n\u001b[1;32m    <a href='file:///home/jongwook95.lee/miniforge3/envs/vision_machine/lib/python3.8/site-packages/PIL/ImageFile.py?line=252'>253</a>\u001b[0m             \u001b[39mf\u001b[39m\u001b[39m\"\u001b[39m\u001b[39m(\u001b[39m\u001b[39m{\u001b[39;00m\u001b[39mlen\u001b[39m(b)\u001b[39m}\u001b[39;00m\u001b[39m bytes not processed)\u001b[39m\u001b[39m\"\u001b[39m\n\u001b[1;32m    <a href='file:///home/jongwook95.lee/miniforge3/envs/vision_machine/lib/python3.8/site-packages/PIL/ImageFile.py?line=253'>254</a>\u001b[0m         )\n\u001b[1;32m    <a href='file:///home/jongwook95.lee/miniforge3/envs/vision_machine/lib/python3.8/site-packages/PIL/ImageFile.py?line=255'>256</a>\u001b[0m b \u001b[39m=\u001b[39m b \u001b[39m+\u001b[39m s\n\u001b[0;32m--> <a href='file:///home/jongwook95.lee/miniforge3/envs/vision_machine/lib/python3.8/site-packages/PIL/ImageFile.py?line=256'>257</a>\u001b[0m n, err_code \u001b[39m=\u001b[39m decoder\u001b[39m.\u001b[39;49mdecode(b)\n\u001b[1;32m    <a href='file:///home/jongwook95.lee/miniforge3/envs/vision_machine/lib/python3.8/site-packages/PIL/ImageFile.py?line=257'>258</a>\u001b[0m \u001b[39mif\u001b[39;00m n \u001b[39m<\u001b[39m \u001b[39m0\u001b[39m:\n\u001b[1;32m    <a href='file:///home/jongwook95.lee/miniforge3/envs/vision_machine/lib/python3.8/site-packages/PIL/ImageFile.py?line=258'>259</a>\u001b[0m     \u001b[39mbreak\u001b[39;00m\n",
      "\u001b[0;31mKeyboardInterrupt\u001b[0m: "
     ]
    }
   ],
   "source": [
    "print(\"{} start training!\".format(model_name))\n",
    "device = torch.device(\"cuda:0\" if torch.cuda.is_available() else \"cpu\")\n",
    "vision_model.to(device)\n",
    "min_valid_loss = np.inf\n",
    "\n",
    "\n",
    "for e in range(epoch):\n",
    "    train_loss = 0.0\n",
    "    correct = 0\n",
    "    total = 0\n",
    "    vision_model.train()     # Optional when not using Model Specific layer\n",
    "    for data in train_dataloader['train']:\n",
    "        if torch.cuda.is_available():\n",
    "            images, labels = data['image'].float().to(device), data['target'].float().to(device)\n",
    "        \n",
    "        optimizer.zero_grad()\n",
    "        target = vision_model(images)\n",
    "        loss = loss_fn(target,torch.argmax(labels, dim=1))\n",
    "        loss.backward()\n",
    "        optimizer.step()\n",
    "        train_loss += loss.item()\n",
    "        _, predicted = torch.max(target, 1)\n",
    "        correct += (predicted == torch.argmax(labels, dim=1)).float().sum()\n",
    "        total += labels.size(0)\n",
    "            \n",
    "    train_acc = correct / total\n",
    "    correct = 0\n",
    "    total = 0\n",
    "    valid_loss = 0.0\n",
    "    vision_model.eval()     # Optional when not using Model Specific layer\n",
    "    for data in test_dataloader['test']:\n",
    "        if torch.cuda.is_available():\n",
    "            data, labels = data['image'].float().to(device), data['target'].float().to(device)\n",
    "        \n",
    "        target = vision_model(data)\n",
    "        loss = loss_fn(target,torch.argmax(labels, dim=1))\n",
    "        valid_loss = loss.item() * data.size(0)\n",
    "        _, predicted = torch.max(target, 1)\n",
    "        correct += (predicted == torch.argmax(labels, dim=1)).float().sum()\n",
    "        total += labels.size(0)\n",
    "    valid_acc = correct / total\n",
    "\n",
    "    print(f'Epoch {e+1} \\t Training Loss: {train_loss / len(train_dataloader)} \\t Training Acc: {train_acc} \\t\\t Test Loss: {valid_loss / len(test_dataloader)} \\t Test Acc: {valid_acc}')\n",
    "    if min_valid_loss > valid_loss:\n",
    "        print(f'Validation Loss Decreased({min_valid_loss:.6f}--->{valid_loss:.6f}) \\t Saving The Model')\n",
    "        min_valid_loss = valid_loss\n",
    "        # Saving State Dict\n",
    "        torch.save(vision_model.state_dict(), result_dir + 'Classification_Best_model.pth')"
   ]
  },
  {
   "cell_type": "markdown",
   "metadata": {},
   "source": [
    "### (6) Load Best Model"
   ]
  },
  {
   "cell_type": "code",
   "execution_count": 33,
   "metadata": {},
   "outputs": [
    {
     "data": {
      "text/plain": [
       "<All keys matched successfully>"
      ]
     },
     "execution_count": 33,
     "metadata": {},
     "output_type": "execute_result"
    }
   ],
   "source": [
    "vision_model.load_state_dict(torch.load('result/Classification_Best_model.pth'))"
   ]
  },
  {
   "cell_type": "markdown",
   "metadata": {},
   "source": [
    "### (7) 성능 평가"
   ]
  },
  {
   "cell_type": "code",
   "execution_count": 34,
   "metadata": {},
   "outputs": [
    {
     "name": "stdout",
     "output_type": "stream",
     "text": [
      "Test Prediction\n"
     ]
    }
   ],
   "source": [
    "print('Test Prediction')\n",
    "device = torch.device(\"cuda:0\" if torch.cuda.is_available() else \"cpu\")\n",
    "predictions = []\n",
    "vision_model.to(device)\n",
    "\n",
    "with torch.no_grad():  \n",
    "    for data in test_dataloader['test']:\n",
    "        images, labels = data['image'].float().to(device), data['target'].float().to(device)\n",
    "        images = images.to(device)  \n",
    "        labels = labels.to(device)  \n",
    "        vision_model.eval()  \n",
    "        yhat = vision_model(images)  \n",
    "        pred = yhat.argmax(dim=1, keepdim = False)\n",
    "        pred = list(pred.cpu().numpy())\n",
    "        predictions = predictions + pred"
   ]
  },
  {
   "cell_type": "code",
   "execution_count": 35,
   "metadata": {},
   "outputs": [
    {
     "data": {
      "text/plain": [
       "Text(0.5, 1.0, 'Confusion_matrix')"
      ]
     },
     "execution_count": 35,
     "metadata": {},
     "output_type": "execute_result"
    },
    {
     "data": {
      "image/png": "[encoded data removed]",
      "text/plain": [
       "<Figure size 640x480 with 2 Axes>"
      ]
     },
     "metadata": {},
     "output_type": "display_data"
    }
   ],
   "source": [
    "ground_truth = np.argmax(test_target_list, axis=-1)\n",
    "distribution = confusion_matrix(ground_truth, predictions)\n",
    "plt.figure()\n",
    "distribution = pd.DataFrame(distribution, index=uni_label, columns=uni_label)\n",
    "ax = sns.heatmap(distribution, annot=True)\n",
    "plt.title('Confusion_matrix')"
   ]
  },
  {
   "cell_type": "code",
   "execution_count": 36,
   "metadata": {},
   "outputs": [
    {
     "name": "stdout",
     "output_type": "stream",
     "text": [
      "Test Accuracy: 0.9682539682539683\n"
     ]
    }
   ],
   "source": [
    "from sklearn.metrics import accuracy_score, f1_score\n",
    "print(\"Test Accuracy: {}\".format(accuracy_score(ground_truth, predictions)))"
   ]
  },
  {
   "cell_type": "markdown",
   "metadata": {},
   "source": []
  }
 ],
 "metadata": {
  "interpreter": {
   "hash": "8786e27bd1086ac4d9d40cc5555f877076005eb73afcfe8ecd44164236edd6aa"
  },
  "kernelspec": {
   "display_name": "Python 3.8.13 ('vision_machine')",
   "language": "python",
   "name": "python3"
  },
  "language_info": {
   "codemirror_mode": {
    "name": "ipython",
    "version": 3
   },
   "file_extension": ".py",
   "mimetype": "text/x-python",
   "name": "python",
   "nbconvert_exporter": "python",
   "pygments_lexer": "ipython3",
   "version": "3.8.13"
  },
  "orig_nbformat": 4
 },
 "nbformat": 4,
 "nbformat_minor": 2
}
