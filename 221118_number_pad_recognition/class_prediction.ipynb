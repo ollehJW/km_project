{
 "cells": [
  {
   "cell_type": "markdown",
   "metadata": {},
   "source": [
    "## 1. 사용할 패키지 불러오기"
   ]
  },
  {
   "cell_type": "code",
   "execution_count": 41,
   "metadata": {},
   "outputs": [],
   "source": [
    "import pandas as pd\n",
    "import cv2\n",
    "import os\n",
    "from sklearn.model_selection import train_test_split\n",
    "from torch.optim import Adam\n",
    "from torch.nn import CrossEntropyLoss\n",
    "import json\n",
    "from data_gen.data_gen import ClassDatasetGenerator\n",
    "import torch\n",
    "import torchvision.models as models\n",
    "import torch.nn as nn\n",
    "import numpy as np\n",
    "from tqdm import tqdm\n",
    "import matplotlib.pyplot as plt\n",
    "from sklearn.metrics import confusion_matrix\n",
    "import seaborn as sns"
   ]
  },
  {
   "cell_type": "markdown",
   "metadata": {},
   "source": [
    "## 2. 데이터 불러오기"
   ]
  },
  {
   "cell_type": "markdown",
   "metadata": {},
   "source": [
    "### (1) Cropped Image 경로 불러오기"
   ]
  },
  {
   "cell_type": "code",
   "execution_count": 42,
   "metadata": {},
   "outputs": [],
   "source": [
    "train_img_path = './cropped_image/train'\n",
    "test_img_path = './cropped_image/test'"
   ]
  },
  {
   "cell_type": "markdown",
   "metadata": {},
   "source": [
    "### (2) Train 및 Test 데이터셋 생성"
   ]
  },
  {
   "cell_type": "code",
   "execution_count": 43,
   "metadata": {},
   "outputs": [],
   "source": [
    "def prepare_data(image_path):\n",
    "    \"\"\"\n",
    "    Extract file names with target class\n",
    "    Parameters\n",
    "    ----------\n",
    "    train_path : str\n",
    "        train data path (csv or folders with class name)\n",
    "    remove_filename_list : list\n",
    "        file names which should be removed.\n",
    "    Returns\n",
    "    --------\n",
    "    file names, unique label names, target class\n",
    "    \"\"\"\n",
    "\n",
    "    files = []\n",
    "    for ty in os.listdir(image_path):\n",
    "        filelist = os.listdir(os.path.join(image_path, ty))\n",
    "        for i, file in enumerate(filelist):\n",
    "            files.append(os.path.join(image_path, ty, file))\n",
    "        labels = [file.split('/')[-2] for file in files]\n",
    "\n",
    "    uni_label = np.unique(labels)\n",
    "    print(\"There are {} classes: {}\".format(len(uni_label), uni_label))\n",
    "    y = np.array([np.eye(len(uni_label))[np.where(uni_label==label)].reshape(-1) for label in labels])\n",
    "\n",
    "    return files, uni_label, y"
   ]
  },
  {
   "cell_type": "code",
   "execution_count": 44,
   "metadata": {},
   "outputs": [
    {
     "name": "stdout",
     "output_type": "stream",
     "text": [
      "There are 9 classes: ['1996_n' '2004_n' '2006_eu' '2006_n' '2006_us' '2019_n' '2019_r' 'bike'\n",
      " 'echo']\n",
      "There are 9 classes: ['1996_n' '2004_n' '2006_eu' '2006_n' '2006_us' '2019_n' '2019_r' 'bike'\n",
      " 'echo']\n"
     ]
    }
   ],
   "source": [
    "train_img_list, uni_label, train_target_list = prepare_data(image_path = train_img_path)\n",
    "test_img_list, uni_label, test_target_list = prepare_data(image_path = test_img_path)"
   ]
  },
  {
   "cell_type": "markdown",
   "metadata": {},
   "source": [
    "## 3. 모델링"
   ]
  },
  {
   "cell_type": "markdown",
   "metadata": {},
   "source": [
    "### (1) Dataloader 생성"
   ]
  },
  {
   "cell_type": "code",
   "execution_count": 45,
   "metadata": {},
   "outputs": [],
   "source": [
    "train_dataset = ClassDatasetGenerator(train_img_list, train_target_list, batch_size = 16, phase = 'train')\n",
    "train_dataloader = train_dataset.dataloader()\n",
    "test_dataset = ClassDatasetGenerator(test_img_list, test_target_list, batch_size = 1, phase = 'test')\n",
    "test_dataloader = test_dataset.dataloader()                 "
   ]
  },
  {
   "cell_type": "markdown",
   "metadata": {},
   "source": [
    "### (2) Model 생성"
   ]
  },
  {
   "cell_type": "code",
   "execution_count": 46,
   "metadata": {},
   "outputs": [],
   "source": [
    "model_name = 'resnet18'\n"
   ]
  },
  {
   "cell_type": "code",
   "execution_count": 60,
   "metadata": {},
   "outputs": [],
   "source": [
    "# build model\n",
    "vision_model = models.resnet18(pretrained=True)\n",
    "num_ftrs = vision_model.fc.in_features\n",
    "vision_model.fc = nn.Linear(num_ftrs, len(uni_label))"
   ]
  },
  {
   "cell_type": "markdown",
   "metadata": {},
   "source": [
    "### (3) 학습 파라미터 지정"
   ]
  },
  {
   "cell_type": "code",
   "execution_count": 61,
   "metadata": {},
   "outputs": [],
   "source": [
    "epoch = 30\n",
    "learning_rate = 0.001\n",
    "weight_decay = 0.0001\n",
    "result_dir = './result/'\n",
    "os.makedirs(result_dir, exist_ok = True)"
   ]
  },
  {
   "cell_type": "markdown",
   "metadata": {},
   "source": [
    "### (4) Loss, Optimizer 생성"
   ]
  },
  {
   "cell_type": "code",
   "execution_count": 62,
   "metadata": {},
   "outputs": [],
   "source": [
    "# get loss function from LossFactory\n",
    "loss_fn = CrossEntropyLoss()\n",
    "\n",
    "# get optimizer from OptimizerFactory\n",
    "optimizer = Adam(params = vision_model.parameters(),\n",
    "                lr=learning_rate,\n",
    "                weight_decay = weight_decay)"
   ]
  },
  {
   "cell_type": "markdown",
   "metadata": {},
   "source": [
    "### (5) 학습"
   ]
  },
  {
   "cell_type": "code",
   "execution_count": 63,
   "metadata": {},
   "outputs": [
    {
     "name": "stdout",
     "output_type": "stream",
     "text": [
      "resnet18 start training!\n",
      "Epoch 1 \t Training Loss: 32.10104588419199 \t Training Acc: 0.8020433783531189 \t\t Test Loss: 0.1909327507019043 \t Test Acc: 0.6666666865348816\n",
      "Validation Loss Increased(0.000000--->0.666667) \t Saving The Model\n",
      "Epoch 2 \t Training Loss: 18.45918968319893 \t Training Acc: 0.8799489140510559 \t\t Test Loss: 0.023600036278367043 \t Test Acc: 0.7936508655548096\n",
      "Validation Loss Increased(0.666667--->0.793651) \t Saving The Model\n",
      "Epoch 3 \t Training Loss: 10.410542007535696 \t Training Acc: 0.9208173751831055 \t\t Test Loss: 0.06642551720142365 \t Test Acc: 0.7619048357009888\n",
      "Epoch 4 \t Training Loss: 9.154944131150842 \t Training Acc: 0.937420129776001 \t\t Test Loss: 0.002345907734706998 \t Test Acc: 0.9047619700431824\n",
      "Validation Loss Increased(0.793651--->0.904762) \t Saving The Model\n",
      "Epoch 5 \t Training Loss: 6.729138249531388 \t Training Acc: 0.9642400741577148 \t\t Test Loss: 0.013866635039448738 \t Test Acc: 0.7619048357009888\n",
      "Epoch 6 \t Training Loss: 4.918115413747728 \t Training Acc: 0.9693486094474792 \t\t Test Loss: 0.00041333239641971886 \t Test Acc: 0.8412699103355408\n",
      "Epoch 7 \t Training Loss: 6.3360455287620425 \t Training Acc: 0.9578543901443481 \t\t Test Loss: 0.4596041738986969 \t Test Acc: 0.9047619700431824\n",
      "Epoch 8 \t Training Loss: 4.455186112783849 \t Training Acc: 0.9706257581710815 \t\t Test Loss: 0.00925004668533802 \t Test Acc: 0.9523810148239136\n",
      "Validation Loss Increased(0.904762--->0.952381) \t Saving The Model\n",
      "Epoch 9 \t Training Loss: 3.526531441602856 \t Training Acc: 0.9833971858024597 \t\t Test Loss: 0.00623045489192009 \t Test Acc: 0.9206349849700928\n",
      "Epoch 10 \t Training Loss: 6.15164058143273 \t Training Acc: 0.9616857767105103 \t\t Test Loss: 0.006825702264904976 \t Test Acc: 0.9206349849700928\n",
      "Epoch 11 \t Training Loss: 4.074817561078817 \t Training Acc: 0.9744572043418884 \t\t Test Loss: 1.1920928244535389e-07 \t Test Acc: 0.9047619700431824\n",
      "Epoch 12 \t Training Loss: 3.426992519176565 \t Training Acc: 0.984674334526062 \t\t Test Loss: 0.0024586468935012817 \t Test Acc: 0.9523810148239136\n",
      "Epoch 13 \t Training Loss: 1.0168441178975627 \t Training Acc: 0.9948914051055908 \t\t Test Loss: 0.0026950249448418617 \t Test Acc: 0.968254029750824\n",
      "Validation Loss Increased(0.952381--->0.968254) \t Saving The Model\n",
      "Epoch 14 \t Training Loss: 0.8958418893744238 \t Training Acc: 0.992337167263031 \t\t Test Loss: 0.005350555293262005 \t Test Acc: 0.968254029750824\n",
      "Epoch 15 \t Training Loss: 0.7875496484339237 \t Training Acc: 0.9974457025527954 \t\t Test Loss: 0.0001954841281985864 \t Test Acc: 0.968254029750824\n",
      "Epoch 16 \t Training Loss: 1.9888045821571723 \t Training Acc: 0.984674334526062 \t\t Test Loss: 1.311244249343872 \t Test Acc: 0.8730159401893616\n",
      "Epoch 17 \t Training Loss: 4.072176436980953 \t Training Acc: 0.9795657396316528 \t\t Test Loss: 0.00029404606902971864 \t Test Acc: 0.9523810148239136\n",
      "Epoch 18 \t Training Loss: 2.0342732671415433 \t Training Acc: 0.9872285723686218 \t\t Test Loss: 2.7418097943154862e-06 \t Test Acc: 0.8412699103355408\n",
      "Epoch 19 \t Training Loss: 2.1110285059548914 \t Training Acc: 0.9872285723686218 \t\t Test Loss: 8.940656698541716e-06 \t Test Acc: 0.8730159401893616\n",
      "Epoch 20 \t Training Loss: 2.0217408150201663 \t Training Acc: 0.9859514236450195 \t\t Test Loss: 0.00472678430378437 \t Test Acc: 0.9365079998970032\n",
      "Epoch 21 \t Training Loss: 6.561195271322504 \t Training Acc: 0.9629629254341125 \t\t Test Loss: 2.572939395904541 \t Test Acc: 0.7936508655548096\n",
      "Epoch 22 \t Training Loss: 3.19153888290748 \t Training Acc: 0.9872285723686218 \t\t Test Loss: 0.00013124081306159496 \t Test Acc: 0.80952388048172\n",
      "Epoch 23 \t Training Loss: 4.939041827106848 \t Training Acc: 0.9642400741577148 \t\t Test Loss: 0.00011705666838679463 \t Test Acc: 0.9047619700431824\n",
      "Epoch 24 \t Training Loss: 3.9929416133090854 \t Training Acc: 0.9744572043418884 \t\t Test Loss: 0.0020059479866176844 \t Test Acc: 0.8571429252624512\n",
      "Epoch 25 \t Training Loss: 1.3113987690594513 \t Training Acc: 0.9936142563819885 \t\t Test Loss: 0.006723400671035051 \t Test Acc: 0.9206349849700928\n",
      "Epoch 26 \t Training Loss: 0.4259044883074239 \t Training Acc: 0.9974457025527954 \t\t Test Loss: 1.1920928244535389e-07 \t Test Acc: 0.9841270446777344\n",
      "Validation Loss Increased(0.968254--->0.984127) \t Saving The Model\n",
      "Epoch 27 \t Training Loss: 1.793747857765993 \t Training Acc: 0.9897828698158264 \t\t Test Loss: 5.722029527532868e-06 \t Test Acc: 0.9206349849700928\n",
      "Epoch 28 \t Training Loss: 0.2776662174001103 \t Training Acc: 1.0 \t\t Test Loss: 7.986990567587782e-06 \t Test Acc: 0.9841270446777344\n",
      "Epoch 29 \t Training Loss: 0.1381164412596263 \t Training Acc: 1.0 \t\t Test Loss: 1.6927575416048057e-05 \t Test Acc: 1.0\n",
      "Validation Loss Increased(0.984127--->1.000000) \t Saving The Model\n",
      "Epoch 30 \t Training Loss: 0.06003781130129937 \t Training Acc: 1.0 \t\t Test Loss: 1.7523612768854946e-05 \t Test Acc: 0.9841270446777344\n"
     ]
    }
   ],
   "source": [
    "print(\"{} start training!\".format(model_name))\n",
    "device = torch.device(\"cuda:0\" if torch.cuda.is_available() else \"cpu\")\n",
    "vision_model.to(device)\n",
    "min_valid_acc = 0\n",
    "\n",
    "\n",
    "for e in range(epoch):\n",
    "    train_loss = 0.0\n",
    "    correct = 0\n",
    "    total = 0\n",
    "    vision_model.train()     # Optional when not using Model Specific layer\n",
    "    for data in train_dataloader['train']:\n",
    "        if torch.cuda.is_available():\n",
    "            images, labels = data['image'].float().to(device), data['target'].float().to(device)\n",
    "        \n",
    "        optimizer.zero_grad()\n",
    "        target = vision_model(images)\n",
    "        loss = loss_fn(target,torch.argmax(labels, dim=1))\n",
    "        loss.backward()\n",
    "        optimizer.step()\n",
    "        train_loss += loss.item()\n",
    "        _, predicted = torch.max(target, 1)\n",
    "        correct += (predicted == torch.argmax(labels, dim=1)).float().sum()\n",
    "        total += labels.size(0)\n",
    "            \n",
    "    train_acc = correct / total\n",
    "    correct = 0\n",
    "    total = 0\n",
    "    valid_loss = 0.0\n",
    "    vision_model.eval()     # Optional when not using Model Specific layer\n",
    "    for data in test_dataloader['test']:\n",
    "        if torch.cuda.is_available():\n",
    "            data, labels = data['image'].float().to(device), data['target'].float().to(device)\n",
    "        \n",
    "        target = vision_model(data)\n",
    "        loss = loss_fn(target,torch.argmax(labels, dim=1))\n",
    "        valid_loss = loss.item() * data.size(0)\n",
    "        _, predicted = torch.max(target, 1)\n",
    "        correct += (predicted == torch.argmax(labels, dim=1)).float().sum()\n",
    "        total += labels.size(0)\n",
    "    valid_acc = correct / total\n",
    "\n",
    "    print(f'Epoch {e+1} \\t Training Loss: {train_loss / len(train_dataloader)} \\t Training Acc: {train_acc} \\t\\t Test Loss: {valid_loss / len(test_dataloader)} \\t Test Acc: {valid_acc}')\n",
    "    if min_valid_acc < valid_acc:\n",
    "        print(f'Validation Loss Increased({min_valid_acc:.6f}--->{valid_acc:.6f}) \\t Saving The Model')\n",
    "        min_valid_acc = valid_acc\n",
    "        # Saving State Dict\n",
    "        torch.save(vision_model.state_dict(), result_dir + 'Classification_Best_model.pth')"
   ]
  },
  {
   "cell_type": "markdown",
   "metadata": {},
   "source": [
    "### (6) Load Best Model"
   ]
  },
  {
   "cell_type": "code",
   "execution_count": 64,
   "metadata": {},
   "outputs": [
    {
     "data": {
      "text/plain": [
       "<All keys matched successfully>"
      ]
     },
     "execution_count": 64,
     "metadata": {},
     "output_type": "execute_result"
    }
   ],
   "source": [
    "vision_model.load_state_dict(torch.load('result/Classification_Best_model.pth'))"
   ]
  },
  {
   "cell_type": "markdown",
   "metadata": {},
   "source": [
    "### (7) 성능 평가"
   ]
  },
  {
   "cell_type": "code",
   "execution_count": 65,
   "metadata": {},
   "outputs": [
    {
     "name": "stdout",
     "output_type": "stream",
     "text": [
      "Test Prediction\n"
     ]
    }
   ],
   "source": [
    "print('Test Prediction')\n",
    "device = torch.device(\"cuda:0\" if torch.cuda.is_available() else \"cpu\")\n",
    "predictions = []\n",
    "vision_model.to(device)\n",
    "\n",
    "with torch.no_grad():  \n",
    "    for data in test_dataloader['test']:\n",
    "        images, labels = data['image'].float().to(device), data['target'].float().to(device)\n",
    "        images = images.to(device)  \n",
    "        labels = labels.to(device)  \n",
    "        vision_model.eval()  \n",
    "        yhat = vision_model(images)  \n",
    "        pred = yhat.argmax(dim=1, keepdim = False)\n",
    "        pred = list(pred.cpu().numpy())\n",
    "        predictions = predictions + pred"
   ]
  },
  {
   "cell_type": "code",
   "execution_count": 66,
   "metadata": {},
   "outputs": [
    {
     "data": {
      "text/plain": [
       "Text(0.5, 1.0, 'Confusion_matrix')"
      ]
     },
     "execution_count": 66,
     "metadata": {},
     "output_type": "execute_result"
    },
    {
     "data": {
      "image/png": "[encoded data removed]",
      "text/plain": [
       "<Figure size 640x480 with 2 Axes>"
      ]
     },
     "metadata": {},
     "output_type": "display_data"
    }
   ],
   "source": [
    "ground_truth = np.argmax(test_target_list, axis=-1)\n",
    "distribution = confusion_matrix(ground_truth, predictions)\n",
    "plt.figure()\n",
    "distribution = pd.DataFrame(distribution, index=uni_label, columns=uni_label)\n",
    "ax = sns.heatmap(distribution, annot=True)\n",
    "plt.title('Confusion_matrix')"
   ]
  },
  {
   "cell_type": "code",
   "execution_count": 36,
   "metadata": {},
   "outputs": [
    {
     "name": "stdout",
     "output_type": "stream",
     "text": [
      "Test Accuracy: 0.9682539682539683\n"
     ]
    }
   ],
   "source": [
    "from sklearn.metrics import accuracy_score, f1_score\n",
    "print(\"Test Accuracy: {}\".format(accuracy_score(ground_truth, predictions)))"
   ]
  },
  {
   "cell_type": "markdown",
   "metadata": {},
   "source": []
  }
 ],
 "metadata": {
  "interpreter": {
   "hash": "8786e27bd1086ac4d9d40cc5555f877076005eb73afcfe8ecd44164236edd6aa"
  },
  "kernelspec": {
   "display_name": "Python 3.8.13 ('vision_machine')",
   "language": "python",
   "name": "python3"
  },
  "language_info": {
   "codemirror_mode": {
    "name": "ipython",
    "version": 3
   },
   "file_extension": ".py",
   "mimetype": "text/x-python",
   "name": "python",
   "nbconvert_exporter": "python",
   "pygments_lexer": "ipython3",
   "version": "3.8.13"
  },
  "orig_nbformat": 4
 },
 "nbformat": 4,
 "nbformat_minor": 2
}
